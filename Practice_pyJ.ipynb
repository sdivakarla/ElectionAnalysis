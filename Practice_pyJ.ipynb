{
 "cells": [
  {
   "cell_type": "code",
   "execution_count": 3,
   "metadata": {},
   "outputs": [
    {
     "name": "stdout",
     "output_type": "stream",
     "text": [
      "Denver\n"
     ]
    }
   ],
   "source": [
    "counties = [\"Arapahoe\", \"Denver\", \"Jefferson\"]\n",
    "if counties[1] == 'Denver':\n",
    "    print(counties[1])"
   ]
  },
  {
   "cell_type": "code",
   "execution_count": 6,
   "metadata": {},
   "outputs": [
    {
     "ename": "IndexError",
     "evalue": "list index out of range",
     "output_type": "error",
     "traceback": [
      "\u001b[0;31m---------------------------------------------------------------------------\u001b[0m",
      "\u001b[0;31mIndexError\u001b[0m                                Traceback (most recent call last)",
      "\u001b[0;32m/var/folders/35/yhtxsvfj1j9g4zx17bsmqqtc0000gn/T/ipykernel_42371/564494874.py\u001b[0m in \u001b[0;36m<module>\u001b[0;34m\u001b[0m\n\u001b[1;32m      1\u001b[0m \u001b[0mcounties\u001b[0m \u001b[0;34m=\u001b[0m \u001b[0;34m[\u001b[0m\u001b[0;34m\"Arapahoe\"\u001b[0m\u001b[0;34m,\u001b[0m \u001b[0;34m\"Denver\"\u001b[0m\u001b[0;34m,\u001b[0m \u001b[0;34m\"Jefferson\"\u001b[0m\u001b[0;34m]\u001b[0m\u001b[0;34m\u001b[0m\u001b[0;34m\u001b[0m\u001b[0m\n\u001b[0;32m----> 2\u001b[0;31m \u001b[0;32mif\u001b[0m \u001b[0mcounties\u001b[0m\u001b[0;34m[\u001b[0m\u001b[0;36m3\u001b[0m\u001b[0;34m]\u001b[0m \u001b[0;34m!=\u001b[0m \u001b[0;34m'Jefferson'\u001b[0m\u001b[0;34m:\u001b[0m\u001b[0;34m\u001b[0m\u001b[0;34m\u001b[0m\u001b[0m\n\u001b[0m\u001b[1;32m      3\u001b[0m     \u001b[0mprint\u001b[0m\u001b[0;34m(\u001b[0m\u001b[0mcounties\u001b[0m\u001b[0;34m[\u001b[0m\u001b[0;36m2\u001b[0m\u001b[0;34m]\u001b[0m\u001b[0;34m)\u001b[0m\u001b[0;34m\u001b[0m\u001b[0;34m\u001b[0m\u001b[0m\n",
      "\u001b[0;31mIndexError\u001b[0m: list index out of range"
     ]
    }
   ],
   "source": [
    "counties = [\"Arapahoe\", \"Denver\", \"Jefferson\"]\n",
    "if counties[3] != 'Jefferson':\n",
    "    print(counties[2])"
   ]
  },
  {
   "cell_type": "code",
   "execution_count": 8,
   "metadata": {},
   "outputs": [
    {
     "name": "stdout",
     "output_type": "stream",
     "text": [
      "Open the windows.\n"
     ]
    }
   ],
   "source": [
    "temperature = int(input(\"What is the temperature outside?\"))\n",
    "if temperature > 80:\n",
    "    print(\"Turn on the AC.\")\n",
    "else:\n",
    "    print(\"Open the windows.\")\n",
    "    "
   ]
  },
  {
   "cell_type": "code",
   "execution_count": 11,
   "metadata": {},
   "outputs": [
    {
     "name": "stdout",
     "output_type": "stream",
     "text": [
      "Your grade is a D.\n"
     ]
    }
   ],
   "source": [
    "#What is the score?\n",
    "score = int(input(\"What is your test score?\"))\n",
    "#Determine the grade\n",
    "if score >= 90:\n",
    "    print('Your grade is an A')\n",
    "elif score >= 80:\n",
    "    print('Your grade is a B')\n",
    "elif score >=70:\n",
    "    print('Your grade is a C')\n",
    "elif score >= 60:\n",
    "    print('Your grade is a D.')\n",
    "else:\n",
    "    print('Your grade is an F.')\n",
    "\n"
   ]
  },
  {
   "cell_type": "code",
   "execution_count": 12,
   "metadata": {},
   "outputs": [
    {
     "name": "stdout",
     "output_type": "stream",
     "text": [
      "El Paso is not in the list of counties\n"
     ]
    }
   ],
   "source": [
    "counties = [\"Arapahoe\", \"Denver\", \"Jefferson\"]\n",
    "if \"El Paso\" in counties:\n",
    "    print(\"El Paso is in the list of counties.\")\n",
    "else:\n",
    "    print(\"El Paso is not in the list of counties\")\n",
    "    "
   ]
  },
  {
   "cell_type": "code",
   "execution_count": 16,
   "metadata": {},
   "outputs": [
    {
     "name": "stdout",
     "output_type": "stream",
     "text": [
      "Arapahoe or El Paso is in the list of counties.\n"
     ]
    }
   ],
   "source": [
    "counties = [\"Arapahoe\", \"Denver\", \"Jefferson\"]\n",
    "if \"Arapahoe\" in counties or \"El Paso\" in counties:\n",
    "    print(\"Arapahoe or El Paso is in the list of counties.\")\n",
    "else:\n",
    "    print(\"Arapahoe or El Paso is not in the list of the counties.\")\n"
   ]
  },
  {
   "cell_type": "code",
   "execution_count": 19,
   "metadata": {},
   "outputs": [
    {
     "name": "stdout",
     "output_type": "stream",
     "text": [
      "Arapahoe\n",
      "Denver\n",
      "Jefferson\n"
     ]
    }
   ],
   "source": [
    "counties = [\"Arapahoe\", \"Denver\", \"Jefferson\"]\n",
    "for i in range(len(counties)):\n",
    "    print(counties[i])\n"
   ]
  },
  {
   "cell_type": "code",
   "execution_count": 23,
   "metadata": {},
   "outputs": [
    {
     "name": "stdout",
     "output_type": "stream",
     "text": [
      "['Arapahoe', 'Denver', 'Jefferson']\n",
      "['Arapahoe', 'Denver', 'Jefferson']\n",
      "['Arapahoe', 'Denver', 'Jefferson']\n"
     ]
    }
   ],
   "source": [
    "counties_tuple = (\"Arapahoe\", \"Denver\", \"Jefferson\")\n",
    "for county in counties_tuple:\n",
    "    print(counties)\n"
   ]
  },
  {
   "cell_type": "code",
   "execution_count": 25,
   "metadata": {},
   "outputs": [
    {
     "name": "stdout",
     "output_type": "stream",
     "text": [
      "Arapahoe\n",
      "Denver\n",
      "Jefferson\n"
     ]
    }
   ],
   "source": [
    "counties_dict = {\"Arapahoe\": 422829, \"Denver\": 463353, \"Jefferson\": 432438}\n",
    "for county in counties_dict:\n",
    "    print(county)"
   ]
  },
  {
   "cell_type": "code",
   "execution_count": 36,
   "metadata": {},
   "outputs": [
    {
     "name": "stdout",
     "output_type": "stream",
     "text": [
      "Arapahoe county has 422829 registered voters\n",
      "Denver county has 463353 registered voters\n",
      "Jefferson county has 432438 registered voters\n"
     ]
    }
   ],
   "source": [
    "counties_dict = {\"Arapahoe\": 422829, \"Denver\": 463353, \"Jefferson\": 432438}\n",
    "for county, voters in counties_dict.items():\n",
    "    print(county + \" county has \" + str(voters) + \" registered voters\")\n",
    "\n"
   ]
  },
  {
   "cell_type": "code",
   "execution_count": 49,
   "metadata": {},
   "outputs": [
    {
     "name": "stdout",
     "output_type": "stream",
     "text": [
      "Arapahoe\n",
      "Denver\n",
      "Jefferson\n"
     ]
    }
   ],
   "source": [
    "voting_data = [{\"county\":\"Arapahoe\", \"registered_voters\": 422829},\n",
    "                {\"county\":\"Denver\", \"registered_voters\": 463353},\n",
    "                {\"county\":\"Jefferson\", \"registered_voters\": 432438}]\n",
    "\n",
    "for county_dict in voting_data:\n",
    "\n",
    "     print(county_dict['county'])"
   ]
  },
  {
   "cell_type": "code",
   "execution_count": 50,
   "metadata": {},
   "outputs": [
    {
     "name": "stdout",
     "output_type": "stream",
     "text": [
      "I received 0.6334037115235026% of the total votes.\n"
     ]
    }
   ],
   "source": [
    "my_votes = int(input(\"How many votes did you get in the election? \"))\n",
    "total_votes = int(input(\"What is the total votes in the election? \"))\n",
    "print(f\"I received {my_votes / total_votes * 100}% of the total votes.\")"
   ]
  },
  {
   "cell_type": "code",
   "execution_count": 52,
   "metadata": {},
   "outputs": [
    {
     "name": "stdout",
     "output_type": "stream",
     "text": [
      "You received 50 number of votes. The total number of votes in the election was 4559. You received 1.10% of the total votes.\n"
     ]
    }
   ],
   "source": [
    "candidate_votes = int(input(\"How many votes did the candidate get in the election? \"))\n",
    "total_votes = int(input(\"What is the total number of votes in the election? \"))\n",
    "message_to_candidate = (\n",
    "    f\"You received {candidate_votes} number of votes. \"\n",
    "    f\"The total number of votes in the election was {total_votes}. \"\n",
    "    f\"You received {candidate_votes / total_votes * 100:.2f}% of the total votes.\")\n",
    "\n",
    "print(message_to_candidate)"
   ]
  },
  {
   "cell_type": "code",
   "execution_count": 54,
   "metadata": {},
   "outputs": [
    {
     "name": "stdout",
     "output_type": "stream",
     "text": [
      "Arapahoe county has 422829 registered voters.\n",
      "Denver county has 463353 registered voters.\n",
      "Jefferson county has 432438 registered voters.\n"
     ]
    }
   ],
   "source": [
    "counties_dict = {\"Arapahoe\": 422829, \"Denver\": 463353, \"Jefferson\": 432438}\n",
    "for county, voters in counties_dict.items():\n",
    "    print(f\"{county} county has {voters} registered voters.\")\n",
    "    "
   ]
  },
  {
   "cell_type": "markdown",
   "metadata": {},
   "source": []
  }
 ],
 "metadata": {
  "interpreter": {
   "hash": "aee8b7b246df8f9039afb4144a1f6fd8d2ca17a180786b69acc140d282b71a49"
  },
  "kernelspec": {
   "display_name": "Python 3.7.6 64-bit",
   "language": "python",
   "name": "python3"
  },
  "language_info": {
   "codemirror_mode": {
    "name": "ipython",
    "version": 3
   },
   "file_extension": ".py",
   "mimetype": "text/x-python",
   "name": "python",
   "nbconvert_exporter": "python",
   "pygments_lexer": "ipython3",
   "version": "3.7.6"
  },
  "orig_nbformat": 4
 },
 "nbformat": 4,
 "nbformat_minor": 2
}
